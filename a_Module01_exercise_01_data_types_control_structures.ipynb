{
  "cells": [
    {
      "cell_type": "code",
      "execution_count": 62,
      "metadata": {
        "id": "y8VOh811A9bE"
      },
      "outputs": [],
      "source": [
        "#@title COMP216 Lab exercise 1.\n",
        "# Please save this notebook as your name\n",
        "#\n",
        "# Please insert your name, student number, course and date\n",
        "# is the proper spots below.\n",
        "#\n",
        "# copyrights Narendra Pershad\n",
        "#"
      ]
    },
    {
      "cell_type": "markdown",
      "metadata": {
        "id": "Fq8nbpafpY0U"
      },
      "source": [
        "**Name: Narendra  \n",
        "Sid: 123-456-789  \n",
        "Course: COMP216-001  \n",
        "Date: September 5, 2023**  \n",
        "\n",
        "---\n",
        "\n",
        "##Instructions\n",
        "1. Complete the exercises as far as you possibly can\n",
        "2. Rename the workbook to your first name  \n",
        "3. Make sure that the notebook is shareable\n",
        "4. Upload a link to the Assessment folder in brightspace  \n",
        "5. You code must work even if the original variable changes\n",
        "---\n",
        "If you leave the notebook and/or start working at mid-way in the notebook, you will have to execute the first cell again to re-load the variable etc.\n",
        "##Questions: [47.5 Marks]\n",
        "- [Working with Sets](#set)\n",
        "- [Working with Tuples](#tuple)\n",
        "- [Working with Lists](#list)\n",
        "- [Working with Dictionaries](#dict)\n",
        "- [Conversions between Collections](#conversion)\n",
        "- [Iterate a collection](#iterate)\n",
        "- [Using the enumerate function](#enumerate)\n",
        "\n"
      ]
    },
    {
      "cell_type": "code",
      "execution_count": 63,
      "metadata": {
        "id": "a_L-qS0vKURp"
      },
      "outputs": [],
      "source": [
        "#imports and variables\n",
        "from random import randint\n",
        "\n",
        "#the following variable will be used in the rest of the exercise\n",
        "pm = 'justin pierre james trudeau'\n",
        "instructor = 'narendra pershad'\n",
        "harry = \"You've gotta ask yourself a question: do I feel lucky? …well, do ya, punk?\"\n",
        "numbers = [randint(5, 10) for _ in range(20)]\n"
      ]
    },
    {
      "cell_type": "markdown",
      "metadata": {
        "id": "ZgH9uiTwLPfZ"
      },
      "source": [
        "##1. <a name=\"set\"></a>Working with sets [8 Marks]"
      ]
    },
    {
      "cell_type": "code",
      "execution_count": 64,
      "metadata": {
        "id": "lHCzPapCLVUH"
      },
      "outputs": [
        {
          "name": "stdout",
          "output_type": "stream",
          "text": [
            "{' ', 's', 'a', 'd', 'p', 'e', 'n', 'h', 'r'}\n"
          ]
        }
      ],
      "source": [
        "# - 1 mark\n",
        "# use the set constructor to create a set (assign the new set to a variable) from the variable 'instructor' and print it\n",
        "instructor_set = set(instructor)\n",
        "print(instructor_set)\n"
      ]
    },
    {
      "cell_type": "code",
      "execution_count": 65,
      "metadata": {
        "id": "p2MOv9RIMP8H"
      },
      "outputs": [
        {
          "name": "stdout",
          "output_type": "stream",
          "text": [
            "{'z', ' ', 's', 'a', 'd', 'p', 'e', 'n', 'h', 'r'}\n"
          ]
        }
      ],
      "source": [
        "# - 1 mark\n",
        "# use the add() method to add 'z' to the above set and print it\n",
        "instructor_set.add('z')\n",
        "print(instructor_set)\n"
      ]
    },
    {
      "cell_type": "code",
      "execution_count": 66,
      "metadata": {
        "id": "p2atpDebMV8v"
      },
      "outputs": [
        {
          "name": "stdout",
          "output_type": "stream",
          "text": [
            "{'z', 's', 'a', 'd', 'p', 'e', 'n', 'h', 'r'}\n"
          ]
        }
      ],
      "source": [
        "# - 1 mark\n",
        "#use the remove() method to take ' ' from the set and print it\n",
        "instructor_set.remove(' ')\n",
        "print(instructor_set)\n"
      ]
    },
    {
      "cell_type": "code",
      "execution_count": 67,
      "metadata": {
        "id": "Il5HqjcfPD8p"
      },
      "outputs": [
        {
          "name": "stdout",
          "output_type": "stream",
          "text": [
            "{'d', 'e', 'a', 'r'}\n"
          ]
        }
      ],
      "source": [
        "# - 1 mark\n",
        "# define your own new set (assign the new set to a variable)\n",
        "# use the intersection() method to find the common elements in both sets and print the result\n",
        "new_set = {'a', 'r', 'e', 'd'}\n",
        "common_elements = instructor_set.intersection(new_set)\n",
        "print(common_elements)\n"
      ]
    },
    {
      "cell_type": "code",
      "execution_count": 68,
      "metadata": {
        "id": "dtCvDvtFPuaw"
      },
      "outputs": [
        {
          "name": "stdout",
          "output_type": "stream",
          "text": [
            "{'z', 's', 'a', 'd', 'p', 'e', 'n', 'h', 'r'}\n"
          ]
        }
      ],
      "source": [
        "# - 1 mark\n",
        "# use the union() method to find all the elements occuring in both sets and print the result\n",
        "all_elements = instructor_set.union(new_set)\n",
        "print(all_elements)\n"
      ]
    },
    {
      "cell_type": "code",
      "execution_count": 69,
      "metadata": {
        "id": "sRfaBsnvOXEC"
      },
      "outputs": [
        {
          "name": "stdout",
          "output_type": "stream",
          "text": [
            "z\n"
          ]
        }
      ],
      "source": [
        "# - 1 mark\n",
        "#use the pop() method remove and return an arbitrary elements of the set and print it\n",
        "removed_element = instructor_set.pop()\n",
        "print(removed_element)\n"
      ]
    },
    {
      "cell_type": "code",
      "execution_count": 70,
      "metadata": {
        "id": "UdKDM8NQ8mPj"
      },
      "outputs": [
        {
          "name": "stdout",
          "output_type": "stream",
          "text": [
            "{'z', 'y', 's', 'a', 'd', 'p', 'e', 'n', 'h', 'x', 'r'}\n"
          ]
        }
      ],
      "source": [
        "# - 1 mark\n",
        "#use the update() function to add 'x', 'y' and 'z' to the set  and print the result\n",
        "instructor_set.update(['x', 'y', 'z'])\n",
        "print(instructor_set)\n"
      ]
    },
    {
      "cell_type": "code",
      "execution_count": 71,
      "metadata": {
        "id": "w3hyOYJNMZ2B"
      },
      "outputs": [
        {
          "name": "stdout",
          "output_type": "stream",
          "text": [
            "11\n"
          ]
        }
      ],
      "source": [
        "# - 1 mark\n",
        "#use the len() function to get the number of elements in the set and print the result\n",
        "set_length = len(instructor_set)\n",
        "print(set_length)\n"
      ]
    },
    {
      "cell_type": "markdown",
      "metadata": {
        "id": "2oaEJMH7QP8f"
      },
      "source": [
        "##2. <a name=\"tuple\"></a>Working with tuples [6 Marks]\n",
        "Because a tuple is immutable, methods like add(), remove(), pop() does not exist for tuples"
      ]
    },
    {
      "cell_type": "code",
      "execution_count": 72,
      "metadata": {
        "id": "WGSZ9yrHRFV_"
      },
      "outputs": [
        {
          "name": "stdout",
          "output_type": "stream",
          "text": [
            "('j', 'u', 's', 't', 'i', 'n', ' ', 'p', 'i', 'e', 'r', 'r', 'e', ' ', 'j', 'a', 'm', 'e', 's', ' ', 't', 'r', 'u', 'd', 'e', 'a', 'u')\n"
          ]
        }
      ],
      "source": [
        "# - 1 mark\n",
        "# Use the tuple constructor to create a tuple (assign the new set to a variable) from the variable pm and print it\n",
        "pm_tuple = tuple(pm)\n",
        "print(pm_tuple)\n"
      ]
    },
    {
      "cell_type": "code",
      "execution_count": 73,
      "metadata": {
        "id": "GTtqEpSJSghH"
      },
      "outputs": [
        {
          "name": "stdout",
          "output_type": "stream",
          "text": [
            "There are 4 e's in the tuple\n",
            "You can find a at index 15 of the tuple\n",
            "There are 27 elements in the tuple\n"
          ]
        }
      ],
      "source": [
        "# - 3 marks\n",
        "# write the statement to produced the following lines of output\n",
        "\n",
        "## There are 4 e's in the tuple                   #use the count() method\n",
        "## You can find a at index 15 of the tuple        #use the index() method\n",
        "## There are 27 elements in the tuple             #use the len() function\n",
        "\n",
        "e_count = pm_tuple.count('e')\n",
        "a_index = pm_tuple.index('a')\n",
        "tuple_length = len(pm_tuple)\n",
        "\n",
        "print(f\"There are {e_count} e's in the tuple\")\n",
        "print(f\"You can find a at index {a_index} of the tuple\")\n",
        "print(f\"There are {tuple_length} elements in the tuple\")\n"
      ]
    },
    {
      "cell_type": "code",
      "execution_count": 74,
      "metadata": {
        "id": "CM_JupCbXjyy"
      },
      "outputs": [
        {
          "name": "stdout",
          "output_type": "stream",
          "text": [
            "j\n",
            "u\n",
            "['s', 't', 'i', 'n', ' ', 'p', 'i', 'e', 'r', 'r', 'e', ' ', 'j', 'a', 'm', 'e', 's', ' ', 't', 'r', 'u', 'd', 'e', 'a', 'u']\n"
          ]
        }
      ],
      "source": [
        "# - 1 mark\n",
        "# use decomposition to print the first, second and the rest of the elements of your tuple\n",
        "first, second, *rest = pm_tuple\n",
        "print(first)\n",
        "print(second)\n",
        "print(rest)\n"
      ]
    },
    {
      "cell_type": "code",
      "execution_count": 75,
      "metadata": {
        "id": "WC-6oIaBYMoQ"
      },
      "outputs": [
        {
          "name": "stdout",
          "output_type": "stream",
          "text": [
            "s\n",
            "i\n"
          ]
        }
      ],
      "source": [
        "# - 1 mark\n",
        "# use array-like indexing to print the third and fifth element of your tuple\n",
        "print(pm_tuple[2])\n",
        "print(pm_tuple[4])\n"
      ]
    },
    {
      "cell_type": "markdown",
      "metadata": {
        "id": "wwfdU9TB440D"
      },
      "source": [
        "##3. <a name=\"list\"></a>Working with list [10 Marks]"
      ]
    },
    {
      "cell_type": "code",
      "execution_count": 76,
      "metadata": {
        "id": "121JIXl2qXtT"
      },
      "outputs": [
        {
          "name": "stdout",
          "output_type": "stream",
          "text": [
            "[\"You've\", 'gotta', 'ask', 'yourself', 'a', 'question:', 'do', 'I', 'feel', 'lucky?', '…well,', 'do', 'ya,', 'punk?']\n"
          ]
        }
      ],
      "source": [
        "# - 1 mark\n",
        "# Use the list constructor to create a list  (assign the new set to a variable) from the variable 'harry' using the split() method\n",
        "# of the string class and print it\n",
        "harry_list = harry.split()\n",
        "print(harry_list)\n"
      ]
    },
    {
      "cell_type": "code",
      "execution_count": 78,
      "metadata": {
        "id": "lfNTrz6arJWc"
      },
      "outputs": [
        {
          "name": "stdout",
          "output_type": "stream",
          "text": [
            "['Clint', 'Clint', \"You've\", 'gotta', 'ask', 'yourself', 'a', 'do', 'I', 'feel', 'lucky?', '…well,', 'do', 'ya,', 'punk?', 'Eastwood', 'Eastwood', 'Dirty', 'Harry']\n"
          ]
        }
      ],
      "source": [
        "# - 4 marks\n",
        "# use the append() method once to add 'Eastwood' to the end of the  list\n",
        "# use the insert() method to add 'Clint' at the start of the  list\n",
        "# use the remove() method to remove 'question' from the list\n",
        "# use the extend() method to add 'Dirty' and 'Harry' to the end of the list\n",
        "# print the final list\n",
        "\n",
        "harry_list.append('Eastwood')\n",
        "harry_list.insert(0, 'Clint')\n",
        "harry_list.remove('question:')\n",
        "harry_list.extend(['Dirty', 'Harry'])\n",
        "print(harry_list)\n"
      ]
    },
    {
      "cell_type": "code",
      "execution_count": 79,
      "metadata": {
        "id": "K-sKKdxPsbW8"
      },
      "outputs": [
        {
          "name": "stdout",
          "output_type": "stream",
          "text": [
            "['Clint', 'Clint', 'Dirty', 'Eastwood', 'Eastwood', 'Harry', 'I', \"You've\", 'a', 'ask', 'do', 'do', 'feel', 'gotta', 'lucky?', 'punk?', 'ya,', 'yourself', '…well,']\n",
            "['…well,', 'yourself', 'ya,', 'punk?', 'lucky?', 'gotta', 'feel', 'do', 'do', 'ask', 'a', \"You've\", 'I', 'Harry', 'Eastwood', 'Eastwood', 'Dirty', 'Clint', 'Clint']\n"
          ]
        }
      ],
      "source": [
        "# - 2 marks\n",
        "# use the sort() method to order the  list\n",
        "# print the list\n",
        "# use the reverse() method to reverse the list\n",
        "# print the final list\n",
        "\n",
        "harry_list.sort()\n",
        "print(harry_list)\n",
        "harry_list.reverse()\n",
        "print(harry_list)\n"
      ]
    },
    {
      "cell_type": "code",
      "execution_count": 80,
      "metadata": {
        "id": "SZORK7R4tZWj"
      },
      "outputs": [
        {
          "name": "stdout",
          "output_type": "stream",
          "text": [
            "There are 2 do's in the list\n",
            "You can find 'ask' at index 9 of the list\n",
            "There are 19 elements in the list\n"
          ]
        }
      ],
      "source": [
        "# - 3 mark\n",
        "# write the statement to produced the following lines of output\n",
        "\n",
        "do_count = harry_list.count('do')\n",
        "ask_index = harry_list.index('ask')\n",
        "list_length = len(harry_list)\n",
        "\n",
        "print(f\"There are {do_count} do's in the list\")\n",
        "print(f\"You can find 'ask' at index {ask_index} of the list\")\n",
        "print(f\"There are {list_length} elements in the list\")\n"
      ]
    },
    {
      "cell_type": "markdown",
      "metadata": {
        "id": "euby2eba0kWr"
      },
      "source": [
        "##4. <a name=\"dic\"></a>Working with dictionary [4 Marks]"
      ]
    },
    {
      "cell_type": "code",
      "execution_count": 81,
      "metadata": {
        "id": "_8bhodZDy3QU"
      },
      "outputs": [],
      "source": [
        "#use the following dictionary for your exercises\n",
        "d = {\n",
        "    3462: 'Artificial Intelligence',\n",
        "    3468: 'Software Engineering Technician',\n",
        "    3469: 'Software Engineering Technology',\n",
        "    3472: 'Artificial Intelligence (FT)',\n",
        "    3478: 'Software Engineering Technician (FT)',\n",
        "    3528: 'Health Informatics Technology (FT)',\n",
        "    3609: 'Game - Programming',\n",
        "    3668: 'Health Informatics Technology',\n",
        "    3679: 'Game - Programming (FT)'}\n"
      ]
    },
    {
      "cell_type": "code",
      "execution_count": 82,
      "metadata": {
        "id": "4tdwer_42A6D"
      },
      "outputs": [
        {
          "name": "stdout",
          "output_type": "stream",
          "text": [
            "{3462: 'Artificial Intelligence', 3468: 'Software Engineering Technician', 3469: 'Software Engineering Technology', 3472: 'Artificial Intelligence (FT)', 3478: 'Software Engineering Technician (FT)', 3528: 'Health Informatics Technology (FT)', 3609: 'Game - Programming', 3668: 'Health Informatics Technology', 3679: 'Game - Programming (FT)'}\n"
          ]
        }
      ],
      "source": [
        "# - 1 mark\n",
        "# display the dictionary\n",
        "print(d)\n"
      ]
    },
    {
      "cell_type": "code",
      "execution_count": 83,
      "metadata": {
        "id": "vwTwWh5j3wmb"
      },
      "outputs": [
        {
          "name": "stdout",
          "output_type": "stream",
          "text": [
            "dict_keys([3462, 3468, 3469, 3472, 3478, 3528, 3609, 3668, 3679])\n",
            "dict_values(['Artificial Intelligence', 'Software Engineering Technician', 'Software Engineering Technology', 'Artificial Intelligence (FT)', 'Software Engineering Technician (FT)', 'Health Informatics Technology (FT)', 'Game - Programming', 'Health Informatics Technology', 'Game - Programming (FT)'])\n"
          ]
        }
      ],
      "source": [
        "# - 1 mark\n",
        "# use the keys() and values() method to display the keys and values\n",
        "print(d.keys())\n",
        "print(d.values())\n"
      ]
    },
    {
      "cell_type": "code",
      "execution_count": 84,
      "metadata": {
        "id": "ExUGyOP--_wM"
      },
      "outputs": [
        {
          "name": "stdout",
          "output_type": "stream",
          "text": [
            "Artificial Intelligence\n",
            "Artificial Intelligence\n"
          ]
        }
      ],
      "source": [
        "# - 2 mark\n",
        "# Use the key-index technique to retrieve the name of program 3462\n",
        "# Use the get() method to retrieve the name of program 3462\n",
        "# It there a difference?\n",
        "\n",
        "program_3462 = d[3462]\n",
        "program_3462_get = d.get(3462)\n",
        "\n",
        "print(program_3462)\n",
        "print(program_3462_get)\n"
      ]
    },
    {
      "cell_type": "markdown",
      "metadata": {
        "id": "VOKj50Y3iWXq"
      },
      "source": [
        "##5. <a name=\"conversion\"></a>Converting from one collection to another [7.5 Marks]\n",
        "There is free inter-conversions except for dictionary"
      ]
    },
    {
      "cell_type": "code",
      "execution_count": 85,
      "metadata": {
        "id": "e7tcL28HMuBc"
      },
      "outputs": [
        {
          "name": "stdout",
          "output_type": "stream",
          "text": [
            "{' ', 'm', 's', 'j', 'a', 'p', 'd', 'e', 'i', 'n', 't', 'u', 'r'}\n",
            "{'gotta', 'ask', 'Eastwood', '…well,', 'ya,', 'Dirty', 'feel', 'lucky?', 'a', 'Clint', 'Harry', 'punk?', 'yourself', 'do', \"You've\", 'I'}\n",
            "{3462, 3528, 3468, 3469, 3472, 3668, 3478, 3609, 3679}\n"
          ]
        }
      ],
      "source": [
        "# - 2.5 marks\n",
        "# Use the constructor to obtain a set from each of the three previous collections\n",
        "# (parts 2, 3 and 4) and print them.\n",
        "# Notice the iterator variable the dictionary loop represents only the key\n",
        "\n",
        "tuple_set = set(pm_tuple)\n",
        "list_set = set(harry_list)\n",
        "dict_set = set(d)\n",
        "\n",
        "print(tuple_set)\n",
        "print(list_set)\n",
        "print(dict_set)\n"
      ]
    },
    {
      "cell_type": "code",
      "execution_count": 86,
      "metadata": {
        "id": "2tnfcAeTjWma"
      },
      "outputs": [
        {
          "name": "stdout",
          "output_type": "stream",
          "text": [
            "('z', 'y', 's', 'a', 'd', 'p', 'e', 'n', 'h', 'x', 'r')\n",
            "('…well,', 'yourself', 'ya,', 'punk?', 'lucky?', 'gotta', 'feel', 'do', 'do', 'ask', 'a', \"You've\", 'I', 'Harry', 'Eastwood', 'Eastwood', 'Dirty', 'Clint', 'Clint')\n",
            "(3462, 3468, 3469, 3472, 3478, 3528, 3609, 3668, 3679)\n"
          ]
        }
      ],
      "source": [
        "# - 2.5 marks\n",
        "# Use the constructor to obtain a tuple from each of the three previous collections\n",
        "# (parts 1, 3 and 4) and print them.\n",
        "# Again, notice the iterator variable the dictionary loop represents only the key\n",
        "\n",
        "set_tuple = tuple(instructor_set)\n",
        "list_tuple = tuple(harry_list)\n",
        "dict_tuple = tuple(d)\n",
        "\n",
        "print(set_tuple)\n",
        "print(list_tuple)\n",
        "print(dict_tuple)\n"
      ]
    },
    {
      "cell_type": "code",
      "execution_count": 87,
      "metadata": {
        "id": "MTFoztohjmJ0"
      },
      "outputs": [
        {
          "name": "stdout",
          "output_type": "stream",
          "text": [
            "['z', 'y', 's', 'a', 'd', 'p', 'e', 'n', 'h', 'x', 'r']\n",
            "['j', 'u', 's', 't', 'i', 'n', ' ', 'p', 'i', 'e', 'r', 'r', 'e', ' ', 'j', 'a', 'm', 'e', 's', ' ', 't', 'r', 'u', 'd', 'e', 'a', 'u']\n",
            "[3462, 3468, 3469, 3472, 3478, 3528, 3609, 3668, 3679]\n"
          ]
        }
      ],
      "source": [
        "# - 2.5 marks\n",
        "# Use the constructor to obtain a list from each of the three previous collections\n",
        "# (parts 1, 2 and 4) and print them.\n",
        "\n",
        "set_list = list(instructor_set)\n",
        "tuple_list = list(pm_tuple)\n",
        "dict_list = list(d)\n",
        "\n",
        "print(set_list)\n",
        "print(tuple_list)\n",
        "print(dict_list)\n"
      ]
    },
    {
      "cell_type": "markdown",
      "metadata": {
        "id": "LE9UmvppKbDg"
      },
      "source": [
        "##6. <a name=\"iterate\"></a>Iterating a collection [4 Marks]\n",
        "The for-in loop facilates iterating a collection"
      ]
    },
    {
      "cell_type": "code",
      "execution_count": 88,
      "metadata": {
        "id": "z5ABdjvpKufk"
      },
      "outputs": [
        {
          "name": "stdout",
          "output_type": "stream",
          "text": [
            "z\n",
            "y\n",
            "s\n",
            "a\n",
            "d\n",
            "p\n",
            "e\n",
            "n\n",
            "h\n",
            "x\n",
            "r\n",
            "j\n",
            "u\n",
            "s\n",
            "t\n",
            "i\n",
            "n\n",
            " \n",
            "p\n",
            "i\n",
            "e\n",
            "r\n",
            "r\n",
            "e\n",
            " \n",
            "j\n",
            "a\n",
            "m\n",
            "e\n",
            "s\n",
            " \n",
            "t\n",
            "r\n",
            "u\n",
            "d\n",
            "e\n",
            "a\n",
            "u\n",
            "…well,\n",
            "yourself\n",
            "ya,\n",
            "punk?\n",
            "lucky?\n",
            "gotta\n",
            "feel\n",
            "do\n",
            "do\n",
            "ask\n",
            "a\n",
            "You've\n",
            "I\n",
            "Harry\n",
            "Eastwood\n",
            "Eastwood\n",
            "Dirty\n",
            "Clint\n",
            "Clint\n",
            "3462\n",
            "3468\n",
            "3469\n",
            "3472\n",
            "3478\n",
            "3528\n",
            "3609\n",
            "3668\n",
            "3679\n"
          ]
        }
      ],
      "source": [
        "# - 4 mark\n",
        "# Use a for-in loop to print each of the previous collection: set, tuple, list and dict\n",
        "# Notice the iterator variable the dictionary loop represents only the key\n",
        "\n",
        "for item in instructor_set:\n",
        "    print(item)\n",
        "\n",
        "for item in pm_tuple:\n",
        "    print(item)\n",
        "\n",
        "for item in harry_list:\n",
        "    print(item)\n",
        "\n",
        "for key in d:\n",
        "    print(key)\n"
      ]
    },
    {
      "cell_type": "markdown",
      "metadata": {
        "id": "nKfxb9CFvqD8"
      },
      "source": [
        "##7. <a name=\"enumerate\"></a>Using the enumerate function [8 Marks]\n",
        "This function can enumerate both sequences like sets, tuples, strings and lists as well as mappings like dictionaries  \n",
        "The enumerate function returns a collection of tuples.  \n",
        "Each tuples is a pair comprising of the index and the value."
      ]
    },
    {
      "cell_type": "code",
      "execution_count": 89,
      "metadata": {
        "id": "hbK7KS7Q2MEd"
      },
      "outputs": [
        {
          "name": "stdout",
          "output_type": "stream",
          "text": [
            "0: z\n",
            "1: y\n",
            "2: s\n",
            "3: a\n",
            "4: d\n",
            "5: p\n",
            "6: e\n",
            "7: n\n",
            "8: h\n",
            "9: x\n",
            "10: r\n",
            "0: j\n",
            "1: u\n",
            "2: s\n",
            "3: t\n",
            "4: i\n",
            "5: n\n",
            "6:  \n",
            "7: p\n",
            "8: i\n",
            "9: e\n",
            "10: r\n",
            "11: r\n",
            "12: e\n",
            "13:  \n",
            "14: j\n",
            "15: a\n",
            "16: m\n",
            "17: e\n",
            "18: s\n",
            "19:  \n",
            "20: t\n",
            "21: r\n",
            "22: u\n",
            "23: d\n",
            "24: e\n",
            "25: a\n",
            "26: u\n",
            "0: …well,\n",
            "1: yourself\n",
            "2: ya,\n",
            "3: punk?\n",
            "4: lucky?\n",
            "5: gotta\n",
            "6: feel\n",
            "7: do\n",
            "8: do\n",
            "9: ask\n",
            "10: a\n",
            "11: You've\n",
            "12: I\n",
            "13: Harry\n",
            "14: Eastwood\n",
            "15: Eastwood\n",
            "16: Dirty\n",
            "17: Clint\n",
            "18: Clint\n",
            "0: 3462\n",
            "1: 3468\n",
            "2: 3469\n",
            "3: 3472\n",
            "4: 3478\n",
            "5: 3528\n",
            "6: 3609\n",
            "7: 3668\n",
            "8: 3679\n"
          ]
        }
      ],
      "source": [
        "# - 4 mark\n",
        "# use the enumerate function to print each collection: set, tuple, list and dict\n",
        "# You must print both the position and the item in the collection\n",
        "\n",
        "for idx, item in enumerate(instructor_set):\n",
        "    print(f\"{idx}: {item}\")\n",
        "\n",
        "for idx, item in enumerate(pm_tuple):\n",
        "    print(f\"{idx}: {item}\")\n",
        "\n",
        "for idx, item in enumerate(harry_list):\n",
        "    print(f\"{idx}: {item}\")\n",
        "\n",
        "for idx, key in enumerate(d):\n",
        "    print(f\"{idx}: {key}\")\n"
      ]
    },
    {
      "cell_type": "code",
      "execution_count": 90,
      "metadata": {
        "id": "FjcZLRgMOQDL"
      },
      "outputs": [
        {
          "name": "stdout",
          "output_type": "stream",
          "text": [
            "0: 3462 - Artificial Intelligence\n",
            "1: 3468 - Software Engineering Technician\n",
            "2: 3469 - Software Engineering Technology\n",
            "3: 3472 - Artificial Intelligence (FT)\n",
            "4: 3478 - Software Engineering Technician (FT)\n",
            "5: 3528 - Health Informatics Technology (FT)\n",
            "6: 3609 - Game - Programming\n",
            "7: 3668 - Health Informatics Technology\n",
            "8: 3679 - Game - Programming (FT)\n"
          ]
        }
      ],
      "source": [
        "# - 4 mark\n",
        "# Use the items() method of the dict class to enumerate a dictionary\n",
        "# You must print the position, the key and the value\n",
        "\n",
        "for idx, (key, value) in enumerate(d.items()):\n",
        "    print(f\"{idx}: {key} - {value}\")\n"
      ]
    }
  ],
  "metadata": {
    "colab": {
      "provenance": []
    },
    "kernelspec": {
      "display_name": "Python 3",
      "name": "python3"
    },
    "language_info": {
      "codemirror_mode": {
        "name": "ipython",
        "version": 3
      },
      "file_extension": ".py",
      "mimetype": "text/x-python",
      "name": "python",
      "nbconvert_exporter": "python",
      "pygments_lexer": "ipython3",
      "version": "3.12.3"
    }
  },
  "nbformat": 4,
  "nbformat_minor": 0
}
