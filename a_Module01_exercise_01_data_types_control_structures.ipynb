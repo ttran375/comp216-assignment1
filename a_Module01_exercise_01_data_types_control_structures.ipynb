{
  "nbformat": 4,
  "nbformat_minor": 0,
  "metadata": {
    "colab": {
      "provenance": []
    },
    "kernelspec": {
      "name": "python3",
      "display_name": "Python 3"
    },
    "language_info": {
      "name": "python"
    }
  },
  "cells": [
    {
      "cell_type": "code",
      "metadata": {
        "id": "y8VOh811A9bE"
      },
      "source": [
        "#@title COMP216 Lab exercise 1.\n",
        "# Please save this notebook as your name\n",
        "#\n",
        "# Please insert your name, student number, course and date\n",
        "# is the proper spots below.\n",
        "#\n",
        "# copyrights Narendra Pershad\n",
        "#"
      ],
      "execution_count": null,
      "outputs": []
    },
    {
      "cell_type": "markdown",
      "metadata": {
        "id": "Fq8nbpafpY0U"
      },
      "source": [
        "**Name: Narendra  \n",
        "Sid: 123-456-789  \n",
        "Course: COMP216-001  \n",
        "Date: September 5, 2023**  \n",
        "\n",
        "---\n",
        "\n",
        "##Instructions\n",
        "1. Complete the exercises as far as you possibly can\n",
        "2. Rename the workbook to your first name  \n",
        "3. Make sure that the notebook is shareable\n",
        "4. Upload a link to the Assessment folder in brightspace  \n",
        "5. You code must work even if the original variable changes\n",
        "---\n",
        "If you leave the notebook and/or start working at mid-way in the notebook, you will have to execute the first cell again to re-load the variable etc.\n",
        "##Questions: [47.5 Marks]\n",
        "- [Working with Sets](#set)\n",
        "- [Working with Tuples](#tuple)\n",
        "- [Working with Lists](#list)\n",
        "- [Working with Dictionaries](#dict)\n",
        "- [Conversions between Collections](#conversion)\n",
        "- [Iterate a collection](#iterate)\n",
        "- [Using the enumerate function](#enumerate)\n",
        "\n"
      ]
    },
    {
      "cell_type": "code",
      "metadata": {
        "id": "a_L-qS0vKURp"
      },
      "source": [
        "#imports and variables\n",
        "from random import randint\n",
        "\n",
        "#the following variable will be used in the rest of the exercise\n",
        "pm = 'justin pierre james trudeau'\n",
        "instructor = 'narendra pershad'\n",
        "harry = \"You've gotta ask yourself a question: do I feel lucky? …well, do ya, punk?\"\n",
        "numbers = [randint(5, 10) for _ in range(20)]\n"
      ],
      "execution_count": null,
      "outputs": []
    },
    {
      "cell_type": "markdown",
      "metadata": {
        "id": "ZgH9uiTwLPfZ"
      },
      "source": [
        "##1. <a name=\"set\"></a>Working with sets [8 Marks]"
      ]
    },
    {
      "cell_type": "code",
      "metadata": {
        "id": "lHCzPapCLVUH"
      },
      "source": [
        "# - 1 mark\n",
        "# use the set constructor to create a set (assign the new set to a variable) from the variable 'instructor' and print it\n",
        "\n"
      ],
      "execution_count": null,
      "outputs": []
    },
    {
      "cell_type": "code",
      "metadata": {
        "id": "p2MOv9RIMP8H"
      },
      "source": [
        "# - 1 mark\n",
        "# use the add() method to add 'z' to the above set and print it\n",
        "\n"
      ],
      "execution_count": null,
      "outputs": []
    },
    {
      "cell_type": "code",
      "metadata": {
        "id": "p2atpDebMV8v"
      },
      "source": [
        "# - 1 mark\n",
        "#use the remove() method to take ' ' from the set and print it\n",
        "\n"
      ],
      "execution_count": null,
      "outputs": []
    },
    {
      "cell_type": "code",
      "metadata": {
        "id": "Il5HqjcfPD8p"
      },
      "source": [
        "# - 1 mark\n",
        "# define your own new set (assign the new set to a variable)\n",
        "# use the intersection() method to find the common elements in both sets and print the result\n",
        "\n"
      ],
      "execution_count": null,
      "outputs": []
    },
    {
      "cell_type": "code",
      "metadata": {
        "id": "dtCvDvtFPuaw"
      },
      "source": [
        "# - 1 mark\n",
        "# use the union() method to find all the elements occuring in both sets and print the result\n",
        "\n"
      ],
      "execution_count": null,
      "outputs": []
    },
    {
      "cell_type": "code",
      "metadata": {
        "id": "sRfaBsnvOXEC"
      },
      "source": [
        "# - 1 mark\n",
        "#use the pop() method remove and return an arbitrary elements of the set and print it\n",
        "\n"
      ],
      "execution_count": null,
      "outputs": []
    },
    {
      "cell_type": "code",
      "metadata": {
        "id": "UdKDM8NQ8mPj"
      },
      "source": [
        "# - 1 mark\n",
        "#use the update() function to add 'x', 'y' and 'z' to the set  and print the result\n",
        "\n"
      ],
      "execution_count": null,
      "outputs": []
    },
    {
      "cell_type": "code",
      "metadata": {
        "id": "w3hyOYJNMZ2B"
      },
      "source": [
        "# - 1 mark\n",
        "#use the len() function to get the number of elements in the set and print the result\n",
        "\n"
      ],
      "execution_count": null,
      "outputs": []
    },
    {
      "cell_type": "markdown",
      "metadata": {
        "id": "2oaEJMH7QP8f"
      },
      "source": [
        "##2. <a name=\"tuple\"></a>Working with tuples [6 Marks]\n",
        "Because a tuple is immutable, methods like add(), remove(), pop() does not exist for tuples"
      ]
    },
    {
      "cell_type": "code",
      "metadata": {
        "id": "WGSZ9yrHRFV_"
      },
      "source": [
        "# - 1 mark\n",
        "# Use the tuple constructor to create a tuple (assign the new set to a variable) from the variable pm and print it\n"
      ],
      "execution_count": null,
      "outputs": []
    },
    {
      "cell_type": "code",
      "metadata": {
        "id": "GTtqEpSJSghH"
      },
      "source": [
        "# - 3 marks\n",
        "# write the statement to produced the following lines of output\n",
        "\n",
        "## There are 4 e's in the tuple                   #use the count() method\n",
        "## You can find a at index 15 of the tuple        #use the index() method\n",
        "## There are 27 elements in the tuple             #use the len() function\n",
        "\n",
        "\n"
      ],
      "execution_count": null,
      "outputs": []
    },
    {
      "cell_type": "code",
      "metadata": {
        "id": "CM_JupCbXjyy"
      },
      "source": [
        "# - 1 mark\n",
        "# use decomposition to print the first, second and the rest of the elements of your tuple\n",
        "\n"
      ],
      "execution_count": null,
      "outputs": []
    },
    {
      "cell_type": "code",
      "metadata": {
        "id": "WC-6oIaBYMoQ"
      },
      "source": [
        "# - 1 mark\n",
        "# use array-like indexing to print the third and fifth element of your tuple\n",
        "\n"
      ],
      "execution_count": null,
      "outputs": []
    },
    {
      "cell_type": "markdown",
      "metadata": {
        "id": "wwfdU9TB440D"
      },
      "source": [
        "##3. <a name=\"list\"></a>Working with list [10 Marks]"
      ]
    },
    {
      "cell_type": "code",
      "metadata": {
        "id": "121JIXl2qXtT"
      },
      "source": [
        "# - 1 mark\n",
        "# Use the list constructor to create a list  (assign the new set to a variable) from the variable 'harry' using the split() method\n",
        "# of the string class and print it\n",
        "\n"
      ],
      "execution_count": null,
      "outputs": []
    },
    {
      "cell_type": "code",
      "metadata": {
        "id": "lfNTrz6arJWc"
      },
      "source": [
        "# - 4 marks\n",
        "# use the append() method once to add 'Eastwood' to the end of the  list\n",
        "# use the insert() method to add 'Clint' at the start of the  list\n",
        "# use the remove() method to remove 'question' from the list\n",
        "# use the extend() method to add 'Dirty' and 'Harry' to the end of the list\n",
        "# print the final list\n",
        "\n"
      ],
      "execution_count": null,
      "outputs": []
    },
    {
      "cell_type": "code",
      "metadata": {
        "id": "K-sKKdxPsbW8"
      },
      "source": [
        "# - 2 marks\n",
        "# use the sort() method to order the  list\n",
        "# print the list\n",
        "# use the reverse() method to reverse the list\n",
        "# print the final list\n",
        "\n"
      ],
      "execution_count": null,
      "outputs": []
    },
    {
      "cell_type": "code",
      "metadata": {
        "id": "SZORK7R4tZWj"
      },
      "source": [
        "# - 3 mark\n",
        "# write the statement to produced the following lines of output\n",
        "\n",
        "## There are 2 do's in the list\n",
        "## You can find \"ask\" at index 9 of the list\n",
        "## There are 17 elements in the list\n",
        "\n"
      ],
      "execution_count": null,
      "outputs": []
    },
    {
      "cell_type": "markdown",
      "metadata": {
        "id": "euby2eba0kWr"
      },
      "source": [
        "##4. <a name=\"dic\"></a>Working with dictionary [4 Marks]"
      ]
    },
    {
      "cell_type": "code",
      "metadata": {
        "id": "_8bhodZDy3QU"
      },
      "source": [
        "#use the following dictionary for your exercises\n",
        "d = {\n",
        "    3462: 'Artificial Intelligence',\n",
        "    3468: 'Software Engineering Technician',\n",
        "    3469: 'Software Engineering Technology',\n",
        "    3472: 'Artificial Intelligence (FT)',\n",
        "    3478: 'Software Engineering Technician (FT)',\n",
        "    3528: 'Health Informatics Technology (FT)',\n",
        "    3609: 'Game - Programming',\n",
        "    3668: 'Health Informatics Technology',\n",
        "    3679: 'Game - Programming (FT)'}\n"
      ],
      "execution_count": null,
      "outputs": []
    },
    {
      "cell_type": "code",
      "metadata": {
        "id": "4tdwer_42A6D"
      },
      "source": [
        "# - 1 mark\n",
        "# display the dictionary\n",
        "\n",
        "\n"
      ],
      "execution_count": null,
      "outputs": []
    },
    {
      "cell_type": "code",
      "metadata": {
        "id": "vwTwWh5j3wmb"
      },
      "source": [
        "# - 1 mark\n",
        "# use the keys() and values() method to display the keys and values\n",
        "\n"
      ],
      "execution_count": null,
      "outputs": []
    },
    {
      "cell_type": "code",
      "metadata": {
        "id": "ExUGyOP--_wM"
      },
      "source": [
        "# - 2 mark\n",
        "# Use the key-index technique to retrieve the name of program 3462\n",
        "# Use the get() method to retrieve the name of program 3462\n",
        "# It there a difference?\n",
        "\n"
      ],
      "execution_count": null,
      "outputs": []
    },
    {
      "cell_type": "markdown",
      "metadata": {
        "id": "VOKj50Y3iWXq"
      },
      "source": [
        "##5. <a name=\"conversion\"></a>Converting from one collection to another [7.5 Marks]\n",
        "There is free inter-conversions except for dictionary"
      ]
    },
    {
      "cell_type": "code",
      "metadata": {
        "id": "e7tcL28HMuBc"
      },
      "source": [
        "# - 2.5 marks\n",
        "# Use the constructor to obtain a set from each of the three previous collections\n",
        "# (parts 2, 3 and 4) and print them.\n",
        "# Notice the iterator variable the dictionary loop represents only the key\n",
        "\n"
      ],
      "execution_count": null,
      "outputs": []
    },
    {
      "cell_type": "code",
      "metadata": {
        "id": "2tnfcAeTjWma"
      },
      "source": [
        "# - 2.5 marks\n",
        "# Use the constructor to obtain a tuple from each of the three previous collections\n",
        "# (parts 1, 3 and 4) and print them.\n",
        "# Again, notice the iterator variable the dictionary loop represents only the key\n",
        "\n"
      ],
      "execution_count": null,
      "outputs": []
    },
    {
      "cell_type": "code",
      "metadata": {
        "id": "MTFoztohjmJ0"
      },
      "source": [
        "# - 2.5 marks\n",
        "# Use the constructor to obtain a list from each of the three previous collections\n",
        "# (parts 1, 2 and 4) and print them.\n",
        "\n"
      ],
      "execution_count": null,
      "outputs": []
    },
    {
      "cell_type": "markdown",
      "metadata": {
        "id": "LE9UmvppKbDg"
      },
      "source": [
        "##6. <a name=\"iterate\"></a>Iterating a collection [4 Marks]\n",
        "The for-in loop facilates iterating a collection"
      ]
    },
    {
      "cell_type": "code",
      "metadata": {
        "id": "z5ABdjvpKufk"
      },
      "source": [
        "# - 4 mark\n",
        "# Use a for-in loop to print each of the previous collection: set, tuple, list and dict\n",
        "# Notice the iterator variable the dictionary loop represents only the key\n",
        "\n"
      ],
      "execution_count": null,
      "outputs": []
    },
    {
      "cell_type": "markdown",
      "metadata": {
        "id": "nKfxb9CFvqD8"
      },
      "source": [
        "##7. <a name=\"enumerate\"></a>Using the enumerate function [8 Marks]\n",
        "This function can enumerate both sequences like sets, tuples, strings and lists as well as mappings like dictionaries  \n",
        "The enumerate function returns a collection of tuples.  \n",
        "Each tuples is a pair comprising of the index and the value."
      ]
    },
    {
      "cell_type": "code",
      "metadata": {
        "id": "hbK7KS7Q2MEd"
      },
      "source": [
        "# - 4 mark\n",
        "# use the enumerate function to print each collection: set, tuple, list and dict\n",
        "# You must print both the position and the item in the collection\n",
        "\n"
      ],
      "execution_count": null,
      "outputs": []
    },
    {
      "cell_type": "code",
      "metadata": {
        "id": "FjcZLRgMOQDL"
      },
      "source": [
        "# - 4 mark\n",
        "# Use the items() method of the dict class to enumerate a dictionary\n",
        "# You must print the position, the key and the value\n"
      ],
      "execution_count": null,
      "outputs": []
    }
  ]
}