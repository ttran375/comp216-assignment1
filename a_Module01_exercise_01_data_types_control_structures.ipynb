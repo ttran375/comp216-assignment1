{
  "cells": [
    {
      "cell_type": "code",
      "execution_count": 22,
      "metadata": {
        "id": "y8VOh811A9bE"
      },
      "outputs": [],
      "source": [
        "#@title COMP216 Lab exercise 1.\n",
        "# Please save this notebook as your name\n",
        "#\n",
        "# Please insert your name, student number, course and date\n",
        "# is the proper spots below.\n",
        "#\n",
        "# copyrights Narendra Pershad\n",
        "#"
      ]
    },
    {
      "cell_type": "markdown",
      "metadata": {
        "id": "Fq8nbpafpY0U"
      },
      "source": [
        "**Name: Narendra  \n",
        "Sid: 123-456-789  \n",
        "Course: COMP216-001  \n",
        "Date: September 5, 2023**  \n",
        "\n",
        "---\n",
        "\n",
        "##Instructions\n",
        "1. Complete the exercises as far as you possibly can\n",
        "2. Rename the workbook to your first name  \n",
        "3. Make sure that the notebook is shareable\n",
        "4. Upload a link to the Assessment folder in brightspace  \n",
        "5. You code must work even if the original variable changes\n",
        "---\n",
        "If you leave the notebook and/or start working at mid-way in the notebook, you will have to execute the first cell again to re-load the variable etc.\n",
        "##Questions: [47.5 Marks]\n",
        "- [Working with Sets](#set)\n",
        "- [Working with Tuples](#tuple)\n",
        "- [Working with Lists](#list)\n",
        "- [Working with Dictionaries](#dict)\n",
        "- [Conversions between Collections](#conversion)\n",
        "- [Iterate a collection](#iterate)\n",
        "- [Using the enumerate function](#enumerate)\n",
        "\n"
      ]
    },
    {
      "cell_type": "code",
      "execution_count": 23,
      "metadata": {
        "id": "a_L-qS0vKURp"
      },
      "outputs": [],
      "source": [
        "#imports and variables\n",
        "from random import randint\n",
        "\n",
        "#the following variable will be used in the rest of the exercise\n",
        "pm = 'justin pierre james trudeau'\n",
        "instructor = 'narendra pershad'\n",
        "harry = \"You've gotta ask yourself a question: do I feel lucky? …well, do ya, punk?\"\n",
        "numbers = [randint(5, 10) for _ in range(20)]\n"
      ]
    },
    {
      "cell_type": "markdown",
      "metadata": {
        "id": "ZgH9uiTwLPfZ"
      },
      "source": [
        "##1. <a name=\"set\"></a>Working with sets [8 Marks]"
      ]
    },
    {
      "cell_type": "code",
      "execution_count": 24,
      "metadata": {
        "id": "lHCzPapCLVUH"
      },
      "outputs": [
        {
          "name": "stdout",
          "output_type": "stream",
          "text": [
            "{'a', 'n', 'd', 's', 'p', 'e', ' ', 'h', 'r'}\n",
            "{'1', '4', '.', '3'}\n",
            "{1, 2, 3}\n",
            "{(1, 2, 3), (4, 5, 6)}\n"
          ]
        }
      ],
      "source": [
        "# - 1 mark\n",
        "# use the set constructor to create a set (assign the new set to a variable) from the variable 'instructor' and print it\n",
        "instructor_set = set(instructor)\n",
        "print(instructor_set)\n",
        "\n",
        "set_1 = set(str(1.34))\n",
        "print(set_1)\n",
        "\n",
        "set_2 = set([1,2,3])\n",
        "print(set_2)\n",
        "\n",
        "set_3 = {(1,2,3), (4,5,6)}\n",
        "print(set_3)\n",
        "\n",
        "set_4 = {frozenset([1,2,3]), frozenset([4,5,6])}"
      ]
    },
    {
      "cell_type": "code",
      "execution_count": 25,
      "metadata": {
        "id": "p2MOv9RIMP8H"
      },
      "outputs": [
        {
          "name": "stdout",
          "output_type": "stream",
          "text": [
            "{'a', 'n', 'd', 's', 'p', 'e', ' ', 'h', 'r', 'z'}\n",
            "{'a', 'n', 'd', 's', 'p', 'e', ' ', 'h', 'r', 'z'}\n"
          ]
        }
      ],
      "source": [
        "# - 1 mark\n",
        "# use the add() method to add 'z' to the above set and print it\n",
        "instructor_set.add('z')\n",
        "print(instructor_set)\n",
        "\n",
        "instructor_set.add('z')\n",
        "print(instructor_set)\n"
      ]
    },
    {
      "cell_type": "code",
      "execution_count": 26,
      "metadata": {
        "id": "p2atpDebMV8v"
      },
      "outputs": [
        {
          "name": "stdout",
          "output_type": "stream",
          "text": [
            "{'a', 'n', 'd', 's', 'p', 'e', 'h', 'r', 'z'}\n"
          ]
        },
        {
          "ename": "KeyError",
          "evalue": "'y'",
          "output_type": "error",
          "traceback": [
            "\u001b[0;31m---------------------------------------------------------------------------\u001b[0m",
            "\u001b[0;31mKeyError\u001b[0m                                  Traceback (most recent call last)",
            "Cell \u001b[0;32mIn[26], line 6\u001b[0m\n\u001b[1;32m      3\u001b[0m instructor_set\u001b[38;5;241m.\u001b[39mremove(\u001b[38;5;124m'\u001b[39m\u001b[38;5;124m \u001b[39m\u001b[38;5;124m'\u001b[39m)\n\u001b[1;32m      4\u001b[0m \u001b[38;5;28mprint\u001b[39m(instructor_set)\n\u001b[0;32m----> 6\u001b[0m \u001b[43minstructor_set\u001b[49m\u001b[38;5;241;43m.\u001b[39;49m\u001b[43mremove\u001b[49m\u001b[43m(\u001b[49m\u001b[38;5;124;43m'\u001b[39;49m\u001b[38;5;124;43my\u001b[39;49m\u001b[38;5;124;43m'\u001b[39;49m\u001b[43m)\u001b[49m\n\u001b[1;32m      7\u001b[0m \u001b[38;5;28mprint\u001b[39m(instructor_set)\n",
            "\u001b[0;31mKeyError\u001b[0m: 'y'"
          ]
        }
      ],
      "source": [
        "# - 1 mark\n",
        "#use the remove() method to take ' ' from the set and print it\n",
        "instructor_set.remove(' ')\n",
        "print(instructor_set)\n",
        "\n",
        "instructor_set.remove('y')\n",
        "print(instructor_set)\n"
      ]
    },
    {
      "cell_type": "code",
      "execution_count": null,
      "metadata": {
        "id": "Il5HqjcfPD8p"
      },
      "outputs": [
        {
          "name": "stdout",
          "output_type": "stream",
          "text": [
            "{'a', 'd', 'n', 's', 'e', 'r'}\n"
          ]
        }
      ],
      "source": [
        "# - 1 mark\n",
        "# define your own new set (assign the new set to a variable)\n",
        "# use the intersection() method to find the common elements in both sets and print the result\n",
        "# define your own new set\n",
        "name_set = set('rissandevaraja')\n",
        "print(instructor_set.intersection(name_set))"
      ]
    },
    {
      "cell_type": "code",
      "execution_count": null,
      "metadata": {
        "id": "dtCvDvtFPuaw"
      },
      "outputs": [],
      "source": [
        "# - 1 mark\n",
        "# use the union() method to find all the elements occuring in both sets and print the result\n"
      ]
    },
    {
      "cell_type": "code",
      "execution_count": null,
      "metadata": {
        "id": "sRfaBsnvOXEC"
      },
      "outputs": [
        {
          "data": {
            "text/plain": [
              "'a'"
            ]
          },
          "execution_count": 12,
          "metadata": {},
          "output_type": "execute_result"
        }
      ],
      "source": [
        "# - 1 mark\n",
        "#use the pop() method remove and return an arbitrary elements of the set and print it\n",
        "instructor_set.pop()\n"
      ]
    },
    {
      "cell_type": "code",
      "execution_count": null,
      "metadata": {
        "id": "UdKDM8NQ8mPj"
      },
      "outputs": [
        {
          "name": "stdout",
          "output_type": "stream",
          "text": [
            "{'n', 'd', ('x', 'y', 'z'), 's', 'p', 'e', ' ', 'h', 'r'}\n",
            "{'n', 'd', ('x', 'y', 'z'), 'y', 's', 'x', 'p', 'e', ' ', 'h', 'r', 'z'}\n"
          ]
        }
      ],
      "source": [
        "# - 1 mark\n",
        "#use the update() function to add 'x', 'y' and 'z' to the set  and print the result\n",
        "\n",
        "instructor_set.add(('x', 'y', 'z'))\n",
        "print(instructor_set)\n",
        "instructor_set.update(('x', 'y', 'z'))\n",
        "\n",
        "print(instructor_set)\n"
      ]
    },
    {
      "cell_type": "code",
      "execution_count": null,
      "metadata": {
        "id": "w3hyOYJNMZ2B"
      },
      "outputs": [
        {
          "name": "stdout",
          "output_type": "stream",
          "text": [
            "12\n"
          ]
        }
      ],
      "source": [
        "# - 1 mark\n",
        "#use the len() function to get the number of elements in the set and print the result\n",
        "length_set = len(instructor_set)\n",
        "\n",
        "print(length_set)\n"
      ]
    },
    {
      "cell_type": "markdown",
      "metadata": {
        "id": "2oaEJMH7QP8f"
      },
      "source": [
        "##2. <a name=\"tuple\"></a>Working with tuples [6 Marks]\n",
        "Because a tuple is immutable, methods like add(), remove(), pop() does not exist for tuples"
      ]
    },
    {
      "cell_type": "code",
      "execution_count": null,
      "metadata": {
        "id": "WGSZ9yrHRFV_"
      },
      "outputs": [
        {
          "name": "stdout",
          "output_type": "stream",
          "text": [
            "('j', 'u', 's', 't', 'i', 'n', ' ', 'p', 'i', 'e', 'r', 'r', 'e', ' ', 'j', 'a', 'm', 'e', 's', ' ', 't', 'r', 'u', 'd', 'e', 'a', 'u')\n",
            "i\n"
          ]
        },
        {
          "ename": "TypeError",
          "evalue": "'tuple' object does not support item assignment",
          "output_type": "error",
          "traceback": [
            "\u001b[0;31m---------------------------------------------------------------------------\u001b[0m",
            "\u001b[0;31mTypeError\u001b[0m                                 Traceback (most recent call last)",
            "Cell \u001b[0;32mIn[15], line 10\u001b[0m\n\u001b[1;32m      6\u001b[0m \u001b[38;5;28mprint\u001b[39m(tuple_pm)\n\u001b[1;32m      8\u001b[0m \u001b[38;5;28mprint\u001b[39m(tuple_pm[\u001b[38;5;241m4\u001b[39m])\n\u001b[0;32m---> 10\u001b[0m \u001b[43mtuple_pm\u001b[49m\u001b[43m[\u001b[49m\u001b[38;5;241;43m4\u001b[39;49m\u001b[43m]\u001b[49m \u001b[38;5;241m=\u001b[39m \u001b[38;5;124m'\u001b[39m\u001b[38;5;124mI\u001b[39m\u001b[38;5;124m'\u001b[39m\n",
            "\u001b[0;31mTypeError\u001b[0m: 'tuple' object does not support item assignment"
          ]
        }
      ],
      "source": [
        "# - 1 mark\n",
        "# Use the tuple constructor to create a tuple (assign the new set to a variable) from the variable pm and print it\n",
        "\n",
        "tuple_pm = tuple(pm)\n",
        "\n",
        "print(tuple_pm)\n",
        "\n",
        "print(tuple_pm[4])\n",
        "\n",
        "tuple_pm[4] = 'I'"
      ]
    },
    {
      "cell_type": "code",
      "execution_count": null,
      "metadata": {
        "id": "GTtqEpSJSghH"
      },
      "outputs": [
        {
          "name": "stdout",
          "output_type": "stream",
          "text": [
            "4\n",
            "15\n",
            "15\n",
            "None\n"
          ]
        }
      ],
      "source": [
        "# - 3 marks\n",
        "# write the statement to produced the following lines of output\n",
        "\n",
        "## There are 4 e's in the tuple                   #use the count() method\n",
        "## You can find a at index 15 of the tuple        #use the index() method\n",
        "## There are 27 elements in the tuple             #use the len() function\n",
        "print(tuple_pm.count('e'))\n",
        "print(tuple_pm.index('a'))\n",
        "second_a = print(tuple_pm.index('a', tuple_pm.index('a')+1))\n"
      ]
    },
    {
      "cell_type": "code",
      "execution_count": 27,
      "metadata": {
        "id": "CM_JupCbXjyy"
      },
      "outputs": [
        {
          "name": "stdout",
          "output_type": "stream",
          "text": [
            "a b ['c', 'd', 'e']\n"
          ]
        }
      ],
      "source": [
        "# - 1 mark\n",
        "# use decomposition to print the first, second and the rest of the elements of your tuple\n",
        "tuple_sm = ('a', 'b', 'c', 'd', 'e')\n",
        "# first_letter, second_letter, third_letter = tuple_sm\n",
        "# print(first_letter, second_letter, third_letter)\n",
        "\n",
        "first_ch, second_ch, *remaining = tuple_sm\n",
        "print(first_ch, second_ch, remaining)\n",
        "\n"
      ]
    },
    {
      "cell_type": "code",
      "execution_count": null,
      "metadata": {
        "id": "WC-6oIaBYMoQ"
      },
      "outputs": [],
      "source": [
        "# - 1 mark\n",
        "# use array-like indexing to print the third and fifth element of your tuple\n",
        "\n"
      ]
    },
    {
      "cell_type": "markdown",
      "metadata": {
        "id": "wwfdU9TB440D"
      },
      "source": [
        "##3. <a name=\"list\"></a>Working with list [10 Marks]"
      ]
    },
    {
      "cell_type": "code",
      "execution_count": null,
      "metadata": {
        "id": "121JIXl2qXtT"
      },
      "outputs": [],
      "source": [
        "# - 1 mark\n",
        "# Use the list constructor to create a list  (assign the new set to a variable) from the variable 'harry' using the split() method\n",
        "# of the string class and print it\n",
        "\n"
      ]
    },
    {
      "cell_type": "code",
      "execution_count": null,
      "metadata": {
        "id": "lfNTrz6arJWc"
      },
      "outputs": [],
      "source": [
        "# - 4 marks\n",
        "# use the append() method once to add 'Eastwood' to the end of the  list\n",
        "# use the insert() method to add 'Clint' at the start of the  list\n",
        "# use the remove() method to remove 'question' from the list\n",
        "# use the extend() method to add 'Dirty' and 'Harry' to the end of the list\n",
        "# print the final list\n",
        "\n"
      ]
    },
    {
      "cell_type": "code",
      "execution_count": null,
      "metadata": {
        "id": "K-sKKdxPsbW8"
      },
      "outputs": [],
      "source": [
        "# - 2 marks\n",
        "# use the sort() method to order the  list\n",
        "# print the list\n",
        "# use the reverse() method to reverse the list\n",
        "# print the final list\n",
        "\n"
      ]
    },
    {
      "cell_type": "code",
      "execution_count": null,
      "metadata": {
        "id": "SZORK7R4tZWj"
      },
      "outputs": [],
      "source": [
        "# - 3 mark\n",
        "# write the statement to produced the following lines of output\n",
        "\n",
        "## There are 2 do's in the list\n",
        "## You can find \"ask\" at index 9 of the list\n",
        "## There are 17 elements in the list\n",
        "\n"
      ]
    },
    {
      "cell_type": "markdown",
      "metadata": {
        "id": "euby2eba0kWr"
      },
      "source": [
        "##4. <a name=\"dic\"></a>Working with dictionary [4 Marks]"
      ]
    },
    {
      "cell_type": "code",
      "execution_count": null,
      "metadata": {
        "id": "_8bhodZDy3QU"
      },
      "outputs": [],
      "source": [
        "#use the following dictionary for your exercises\n",
        "d = {\n",
        "    3462: 'Artificial Intelligence',\n",
        "    3468: 'Software Engineering Technician',\n",
        "    3469: 'Software Engineering Technology',\n",
        "    3472: 'Artificial Intelligence (FT)',\n",
        "    3478: 'Software Engineering Technician (FT)',\n",
        "    3528: 'Health Informatics Technology (FT)',\n",
        "    3609: 'Game - Programming',\n",
        "    3668: 'Health Informatics Technology',\n",
        "    3679: 'Game - Programming (FT)'}\n"
      ]
    },
    {
      "cell_type": "code",
      "execution_count": null,
      "metadata": {
        "id": "4tdwer_42A6D"
      },
      "outputs": [],
      "source": [
        "# - 1 mark\n",
        "# display the dictionary\n",
        "\n",
        "\n"
      ]
    },
    {
      "cell_type": "code",
      "execution_count": null,
      "metadata": {
        "id": "vwTwWh5j3wmb"
      },
      "outputs": [],
      "source": [
        "# - 1 mark\n",
        "# use the keys() and values() method to display the keys and values\n",
        "\n"
      ]
    },
    {
      "cell_type": "code",
      "execution_count": null,
      "metadata": {
        "id": "ExUGyOP--_wM"
      },
      "outputs": [],
      "source": [
        "# - 2 mark\n",
        "# Use the key-index technique to retrieve the name of program 3462\n",
        "# Use the get() method to retrieve the name of program 3462\n",
        "# It there a difference?\n",
        "\n"
      ]
    },
    {
      "cell_type": "markdown",
      "metadata": {
        "id": "VOKj50Y3iWXq"
      },
      "source": [
        "##5. <a name=\"conversion\"></a>Converting from one collection to another [7.5 Marks]\n",
        "There is free inter-conversions except for dictionary"
      ]
    },
    {
      "cell_type": "code",
      "execution_count": null,
      "metadata": {
        "id": "e7tcL28HMuBc"
      },
      "outputs": [],
      "source": [
        "# - 2.5 marks\n",
        "# Use the constructor to obtain a set from each of the three previous collections\n",
        "# (parts 2, 3 and 4) and print them.\n",
        "# Notice the iterator variable the dictionary loop represents only the key\n",
        "\n"
      ]
    },
    {
      "cell_type": "code",
      "execution_count": null,
      "metadata": {
        "id": "2tnfcAeTjWma"
      },
      "outputs": [],
      "source": [
        "# - 2.5 marks\n",
        "# Use the constructor to obtain a tuple from each of the three previous collections\n",
        "# (parts 1, 3 and 4) and print them.\n",
        "# Again, notice the iterator variable the dictionary loop represents only the key\n",
        "\n"
      ]
    },
    {
      "cell_type": "code",
      "execution_count": null,
      "metadata": {
        "id": "MTFoztohjmJ0"
      },
      "outputs": [],
      "source": [
        "# - 2.5 marks\n",
        "# Use the constructor to obtain a list from each of the three previous collections\n",
        "# (parts 1, 2 and 4) and print them.\n",
        "\n"
      ]
    },
    {
      "cell_type": "markdown",
      "metadata": {
        "id": "LE9UmvppKbDg"
      },
      "source": [
        "##6. <a name=\"iterate\"></a>Iterating a collection [4 Marks]\n",
        "The for-in loop facilates iterating a collection"
      ]
    },
    {
      "cell_type": "code",
      "execution_count": null,
      "metadata": {
        "id": "z5ABdjvpKufk"
      },
      "outputs": [],
      "source": [
        "# - 4 mark\n",
        "# Use a for-in loop to print each of the previous collection: set, tuple, list and dict\n",
        "# Notice the iterator variable the dictionary loop represents only the key\n",
        "\n"
      ]
    },
    {
      "cell_type": "markdown",
      "metadata": {
        "id": "nKfxb9CFvqD8"
      },
      "source": [
        "##7. <a name=\"enumerate\"></a>Using the enumerate function [8 Marks]\n",
        "This function can enumerate both sequences like sets, tuples, strings and lists as well as mappings like dictionaries  \n",
        "The enumerate function returns a collection of tuples.  \n",
        "Each tuples is a pair comprising of the index and the value."
      ]
    },
    {
      "cell_type": "code",
      "execution_count": null,
      "metadata": {
        "id": "hbK7KS7Q2MEd"
      },
      "outputs": [],
      "source": [
        "# - 4 mark\n",
        "# use the enumerate function to print each collection: set, tuple, list and dict\n",
        "# You must print both the position and the item in the collection\n",
        "\n"
      ]
    },
    {
      "cell_type": "code",
      "execution_count": null,
      "metadata": {
        "id": "FjcZLRgMOQDL"
      },
      "outputs": [],
      "source": [
        "# - 4 mark\n",
        "# Use the items() method of the dict class to enumerate a dictionary\n",
        "# You must print the position, the key and the value\n"
      ]
    }
  ],
  "metadata": {
    "colab": {
      "provenance": []
    },
    "kernelspec": {
      "display_name": "Python 3",
      "name": "python3"
    },
    "language_info": {
      "codemirror_mode": {
        "name": "ipython",
        "version": 3
      },
      "file_extension": ".py",
      "mimetype": "text/x-python",
      "name": "python",
      "nbconvert_exporter": "python",
      "pygments_lexer": "ipython3",
      "version": "3.12.3"
    }
  },
  "nbformat": 4,
  "nbformat_minor": 0
}
