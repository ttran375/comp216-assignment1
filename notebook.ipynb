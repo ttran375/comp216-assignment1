{
 "cells": [
  {
   "cell_type": "code",
   "execution_count": null,
   "metadata": {},
   "outputs": [],
   "source": [
    "Overview"
   ]
  },
  {
   "cell_type": "code",
   "execution_count": 1,
   "metadata": {},
   "outputs": [
    {
     "name": "stdout",
     "output_type": "stream",
     "text": [
      "Hello\n"
     ]
    },
    {
     "ename": "ValueError",
     "evalue": "invalid literal for int() with base 10: '0b10'",
     "output_type": "error",
     "traceback": [
      "\u001b[0;31m---------------------------------------------------------------------------\u001b[0m",
      "\u001b[0;31mValueError\u001b[0m                                Traceback (most recent call last)",
      "Cell \u001b[0;32mIn[1], line 3\u001b[0m\n\u001b[1;32m      1\u001b[0m \u001b[38;5;28mprint\u001b[39m(\u001b[38;5;124m'\u001b[39m\u001b[38;5;124mHello\u001b[39m\u001b[38;5;124m'\u001b[39m)\n\u001b[0;32m----> 3\u001b[0m \u001b[38;5;28;43mint\u001b[39;49m\u001b[43m(\u001b[49m\u001b[38;5;124;43m'\u001b[39;49m\u001b[38;5;124;43m0b10\u001b[39;49m\u001b[38;5;124;43m'\u001b[39;49m\u001b[43m)\u001b[49m\n",
      "\u001b[0;31mValueError\u001b[0m: invalid literal for int() with base 10: '0b10'"
     ]
    }
   ],
   "source": [
    "print('Hello')\n",
    "\n",
    "int('0b10')"
   ]
  },
  {
   "cell_type": "code",
   "execution_count": 1,
   "metadata": {},
   "outputs": [
    {
     "name": "stdout",
     "output_type": "stream",
     "text": [
      "Hello\n"
     ]
    }
   ],
   "source": [
    "print('Hello')\n"
   ]
  },
  {
   "cell_type": "markdown",
   "metadata": {},
   "source": [
    "# String"
   ]
  },
  {
   "cell_type": "code",
   "execution_count": 3,
   "metadata": {},
   "outputs": [
    {
     "name": "stdout",
     "output_type": "stream",
     "text": [
      "FooBarBazBar\n"
     ]
    }
   ],
   "source": [
    "# String Example\n",
    "\n",
    "char1 = 'Foo'\n",
    "char2 = 'Bar'\n",
    "char3 = 'Baz'\n",
    "\n",
    "char4 = char1 + char2 + char3 + char2\n",
    "print(char4)\n",
    "\n",
    "char5 = char1*5\n",
    "print(char5)"
   ]
  },
  {
   "cell_type": "code",
   "execution_count": null,
   "metadata": {},
   "outputs": [],
   "source": [
    "# String Methods\n",
    "\n",
    "print('~')\n",
    "print(chr(126))"
   ]
  },
  {
   "cell_type": "code",
   "execution_count": 4,
   "metadata": {},
   "outputs": [
    {
     "name": "stdout",
     "output_type": "stream",
     "text": [
      "o\n",
      "Foo\n",
      "FooBarB\n",
      "zBa\n"
     ]
    }
   ],
   "source": [
    "# String Indexing & Slicing\n",
    "print(char4[1])\n",
    "print(char4[0:3])\n",
    "print(char4[0:7])\n",
    "\n",
    "print(char4[-4:-1])"
   ]
  },
  {
   "cell_type": "code",
   "execution_count": null,
   "metadata": {},
   "outputs": [],
   "source": []
  },
  {
   "cell_type": "code",
   "execution_count": null,
   "metadata": {},
   "outputs": [],
   "source": [
    "print(id(char4), id(new_str))\n"
   ]
  },
  {
   "cell_type": "code",
   "execution_count": 5,
   "metadata": {},
   "outputs": [
    {
     "data": {
      "text/plain": [
       "'2'"
      ]
     },
     "execution_count": 5,
     "metadata": {},
     "output_type": "execute_result"
    }
   ],
   "source": [
    "#String\n",
    "str(2)\n",
    "pi = str(3.14)\n"
   ]
  },
  {
   "cell_type": "code",
   "execution_count": 8,
   "metadata": {},
   "outputs": [
    {
     "name": "stdout",
     "output_type": "stream",
     "text": [
      "3.14 <class 'float'>\n",
      "[23, 65, 98, 43]\n"
     ]
    }
   ],
   "source": [
    "pi = 3.14\n",
    "print(pi, type(pi))\n",
    "\n",
    "list_smpl = [23, 65, 98, 43]\n",
    "list_str = str(list_smpl)\n",
    "print(list_str)\n",
    "list_str = list_str.replace('[', '').replace(']', '')\n",
    "print(list_str)"
   ]
  },
  {
   "cell_type": "code",
   "execution_count": 9,
   "metadata": {},
   "outputs": [
    {
     "name": "stdout",
     "output_type": "stream",
     "text": [
      "FOOBARBAZBAR\n"
     ]
    }
   ],
   "source": [
    "# String Methods\n",
    "print(char4.upper())\n",
    "\n"
   ]
  },
  {
   "cell_type": "code",
   "execution_count": 12,
   "metadata": {},
   "outputs": [
    {
     "name": "stdout",
     "output_type": "stream",
     "text": [
      "FOOBARBAZBAR FooBarBazBar\n"
     ]
    }
   ],
   "source": [
    "# String Methods\n",
    "\n",
    "char_modified = char4.upper()\n",
    "print(char_modified, char4)\n"
   ]
  },
  {
   "cell_type": "code",
   "execution_count": 17,
   "metadata": {},
   "outputs": [
    {
     "name": "stdout",
     "output_type": "stream",
     "text": [
      "1234904808794\n",
      "139408667185224 139408039636208\n",
      "True\n",
      "False\n",
      "True\n",
      "True\n"
     ]
    }
   ],
   "source": [
    "char6 = '1234904808794'\n",
    "char_num_modified = char6.upper()\n",
    "print(char_num_modified)\n",
    "print(id(6), id(char_num_modified))\n",
    "\n",
    "check1 = char4.isalpha()\n",
    "print(check1)\n",
    "check2 = char4.isdigit()\n",
    "print(check2)\n",
    "check3 = char6.isdigit()\n",
    "print(check3)\n",
    "check4 = 'COMP216'.isalnum()\n",
    "print(check4)"
   ]
  },
  {
   "cell_type": "code",
   "execution_count": 22,
   "metadata": {},
   "outputs": [
    {
     "name": "stdout",
     "output_type": "stream",
     "text": [
      "Peteris23years ago\n"
     ]
    }
   ],
   "source": [
    "#String Formatting\n",
    "name = 'Peter'\n",
    "age = 23\n",
    "Account = 23490\n",
    "\n",
    "statement = name + 'is' + str(age) + 'years ago'\n",
    "print(statement)"
   ]
  },
  {
   "cell_type": "code",
   "execution_count": 24,
   "metadata": {},
   "outputs": [
    {
     "name": "stdout",
     "output_type": "stream",
     "text": [
      "Peteris23years ago\n"
     ]
    }
   ],
   "source": [
    "statement = name + 'is' + str(age) + ' years ago'\n",
    "print(statement)"
   ]
  },
  {
   "cell_type": "code",
   "execution_count": 23,
   "metadata": {},
   "outputs": [
    {
     "name": "stdout",
     "output_type": "stream",
     "text": [
      "Hello, Peter\n"
     ]
    }
   ],
   "source": [
    "statement2 = 'Hello, %s' %name\n",
    "print(statement2)"
   ]
  },
  {
   "cell_type": "code",
   "execution_count": 26,
   "metadata": {},
   "outputs": [
    {
     "name": "stdout",
     "output_type": "stream",
     "text": [
      "Hello, Peter\n"
     ]
    }
   ],
   "source": [
    "statement3 = f'Hello, {name}'\n",
    "print(statement3)"
   ]
  },
  {
   "cell_type": "code",
   "execution_count": 30,
   "metadata": {},
   "outputs": [
    {
     "name": "stdout",
     "output_type": "stream",
     "text": [
      "Hello, PETER is 23 years old.\n",
      "3.1415926\n"
     ]
    }
   ],
   "source": [
    "statement3 = f'Hello, {name.upper()} is {age} years old.'\n",
    "print(statement3)\n",
    "\n",
    "pi_value = 3.1415926\n",
    "print(f'pi_value:.4f')"
   ]
  },
  {
   "cell_type": "code",
   "execution_count": 32,
   "metadata": {},
   "outputs": [
    {
     "name": "stdout",
     "output_type": "stream",
     "text": [
      "67.15%\n"
     ]
    }
   ],
   "source": [
    "asgn_mark = 0.67152\n",
    "print(f\"{asgn_mark:.2%}\")"
   ]
  },
  {
   "cell_type": "code",
   "execution_count": null,
   "metadata": {},
   "outputs": [],
   "source": []
  }
 ],
 "metadata": {
  "kernelspec": {
   "display_name": ".venv",
   "language": "python",
   "name": "python3"
  },
  "language_info": {
   "codemirror_mode": {
    "name": "ipython",
    "version": 3
   },
   "file_extension": ".py",
   "mimetype": "text/x-python",
   "name": "python",
   "nbconvert_exporter": "python",
   "pygments_lexer": "ipython3",
   "version": "3.12.3"
  }
 },
 "nbformat": 4,
 "nbformat_minor": 2
}
